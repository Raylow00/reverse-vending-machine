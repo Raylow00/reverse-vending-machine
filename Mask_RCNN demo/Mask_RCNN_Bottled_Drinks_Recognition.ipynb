{
  "nbformat": 4,
  "nbformat_minor": 0,
  "metadata": {
    "accelerator": "GPU",
    "colab": {
      "name": "[Mask RCNN] Bottled_Drinks_Recognition.ipynb",
      "provenance": [],
      "collapsed_sections": []
    },
    "kernelspec": {
      "display_name": "Python 3",
      "name": "python3"
    },
    "language_info": {
      "name": "python"
    }
  },
  "cells": [
    {
      "cell_type": "code",
      "metadata": {
        "id": "eLyHyHUe17mi"
      },
      "source": [
        "from google.colab import drive\n",
        "drive.mount(\"/content/drive\")"
      ],
      "execution_count": null,
      "outputs": []
    },
    {
      "cell_type": "markdown",
      "metadata": {
        "id": "g2JZATjPkpjM"
      },
      "source": [
        "#Requirements.txt"
      ]
    },
    {
      "cell_type": "markdown",
      "metadata": {
        "id": "IW5mUj4fk68m"
      },
      "source": [
        "Install the packages with versions below:\n",
        "- keras==2.2.5\n",
        "- tensorflow-gpu==1.15.0\n",
        "- h5py==2.10.0\n",
        "\n",
        "Import the packages below:\n",
        "- os\n",
        "- sys\n",
        "- json\n",
        "- datetime\n",
        "- numpy as np\n",
        "- skimage.draw\n",
        "- cv2\n",
        "- random\n",
        "- matplotlib.pyplot as plt\n",
        "\n",
        "Change your directory into the Mask RCNN folder and import the MRCNN packages:\n",
        "- from mrcnn import utils \n",
        "- from mrcnn import visualize\n",
        "- from mrcnn.visualize import display_instances\n",
        "- from mrcnn.visualize import display_images\n",
        "- from mrcnn.model import log\n",
        "- import mrcnn.model as modellib\n",
        "- from mrcnn.config import Config\n",
        "\n",
        "Things to modify accordingly:\n",
        "* Point the Mask RCNN folder to the right folder in your Google Drive\n",
        "* Point the COCO weights file to the COCO weights file path under the Mask RCNN .h5 file\n",
        "* Set the logs folder to log the saved model"
      ]
    },
    {
      "cell_type": "code",
      "metadata": {
        "id": "Zfm9zZuvkrZG"
      },
      "source": [
        "!pip install keras==2.2.5\n",
        "!pip install tensorflow-gpu==1.15.0\n",
        "!pip install h5py==2.10.0"
      ],
      "execution_count": null,
      "outputs": []
    },
    {
      "cell_type": "code",
      "metadata": {
        "id": "TljhPLvhvU1D"
      },
      "source": [
        "MASK_RCNN_DIR = '/content/drive/My Drive/Colab/Mask-RCNN/Mask_RCNN'"
      ],
      "execution_count": null,
      "outputs": []
    },
    {
      "cell_type": "code",
      "metadata": {
        "id": "winBdkA5CJfv"
      },
      "source": [
        "import os\n",
        "import sys\n",
        "import json\n",
        "import datetime\n",
        "import numpy as np\n",
        "import skimage.draw\n",
        "import cv2\n",
        "import random\n",
        "import matplotlib.pyplot as plt\n",
        "import tensorflow as tf\n",
        "from tensorflow.python.client import device_lib\n",
        "from google.colab.patches import cv2_imshow\n",
        "\n",
        "os.chdir(MASK_RCNN_DIR)\n",
        "sys.path.append(MASK_RCNN_DIR)\n",
        "\n",
        "from mrcnn import utils\n",
        "from mrcnn import visualize\n",
        "from mrcnn.visualize import display_instances\n",
        "from mrcnn.visualize import display_images\n",
        "from mrcnn.model import log\n",
        "import mrcnn.model as modellib\n",
        "\n",
        "# Root directory of the project\n",
        "ROOT_DIR = os.path.abspath(\".\")\n",
        "\n",
        "# Import Mask RCNN\n",
        "sys.path.append(ROOT_DIR)  # To find local version of the library\n",
        "from mrcnn.config import Config\n",
        "from mrcnn import model as modellib, utils\n",
        "\n",
        "# Path to trained weights file\n",
        "COCO_WEIGHTS_PATH = os.path.join(ROOT_DIR, \"mask_rcnn_coco.h5\")\n",
        "\n",
        "# Directory to save logs and model checkpoints, if not provided\n",
        "# through the command line argument --logs\n",
        "DEFAULT_LOGS_DIR = \"/content/drive/My Drive/logs\""
      ],
      "execution_count": null,
      "outputs": []
    },
    {
      "cell_type": "markdown",
      "metadata": {
        "id": "K79Z3Lnkmiuz"
      },
      "source": [
        "# Custom Configuration"
      ]
    },
    {
      "cell_type": "markdown",
      "metadata": {
        "id": "Z5HKxfc1mqXP"
      },
      "source": [
        "If you have a custom dataset to train on, change:\n",
        "- NAME: Name of the custom config\n",
        "- BACKBONE: Use 'resnet50' for faster training time\n",
        "- DETECTION_MAX_INSTANCES: Reduce max instances if your num_classes are not too many\n",
        "- IMAGE_MIN_DIM/IMAGE_MAX_DIM: Change this according to your image size, lower resolutions speed up training time\n",
        "- IMAGES_PER_GPU: Reduce if you use a less powerful GPU\n",
        "- BATCH_SIZE: Default to 1 to speed up training time, adjust accordingly\n",
        "- STEPS_PER_EPOCH: Set it to TOTAL_TRAINING_SAMPLES / BATCH_SIZE (general rul)\n",
        "- DETECTION_MIN_CONFIDENCE: Skip detections with < 90% confidence\n",
        "- LEARNING_RATE: Change the learning rate according to your needs"
      ]
    },
    {
      "cell_type": "code",
      "metadata": {
        "id": "uOsEgngjmkZh"
      },
      "source": [
        "############################################################\n",
        "#  Configurations\n",
        "############################################################\n",
        "\n",
        "class CustomConfig(Config):\n",
        "    \"\"\"Configuration for training on the custom dataset.\n",
        "    Derives from the base Config class and overrides some values.\n",
        "    \"\"\"\n",
        "    # Give the configuration a recognizable name\n",
        "    NAME = \"drinks\"\n",
        "\n",
        "    BACKBONE = \"resnet50\"\n",
        "\n",
        "    DETECTION_MAX_INSTANCES = 20\n",
        "\n",
        "    IMAGE_MIN_DIM = 640\n",
        "    IMAGE_MAX_DIM = 640\n",
        "\n",
        "    # Adjust down if you use a smaller GPU.\n",
        "    IMAGES_PER_GPU = 1\n",
        "\n",
        "    # Number of classes (including background)\n",
        "    NUM_CLASSES = 1 + 2  # Background + Mountain_Dew + Pepsi\n",
        "\n",
        "    # Number of training steps per epoch\n",
        "    STEPS_PER_EPOCH = 50\n",
        "\n",
        "    # Skip detections with < 90% confidence\n",
        "    DETECTION_MIN_CONFIDENCE = 0.9\n"
      ],
      "execution_count": null,
      "outputs": []
    },
    {
      "cell_type": "markdown",
      "metadata": {
        "id": "XPrlNlXinvRz"
      },
      "source": [
        "# Custom Dataset"
      ]
    },
    {
      "cell_type": "markdown",
      "metadata": {
        "id": "Yp8_E7_enzYB"
      },
      "source": [
        "If you have a custom dataset:\n",
        "1. Add the class under the CustomConfig and give it a class_id\n",
        "2. Best to use the COCO annotation format as it has the relevant JSON items\n",
        "3. Remember to add a new array 'num_ids' for storing the ids of new classes(specify which class corresponds to which id), then add it to the class itself\n",
        "4. Under the function load_mask(), add the num_ids and change it into a Numpy array for use later, before adding it to the return statement"
      ]
    },
    {
      "cell_type": "code",
      "metadata": {
        "id": "hz7gcF4ivvd3"
      },
      "source": [
        "#TRAIN_CLASSES = ['mdew', \"pepsi\"]"
      ],
      "execution_count": null,
      "outputs": []
    },
    {
      "cell_type": "code",
      "metadata": {
        "id": "C94LdLLGnwoM"
      },
      "source": [
        "############################################################\n",
        "#  Dataset\n",
        "############################################################\n",
        "\n",
        "class CustomDataset(utils.Dataset):\n",
        "\n",
        "    def load_custom(self, dataset_dir, subset):\n",
        "        \"\"\"Load the beagle dataset.\n",
        "        dataset_dir: Root directory of the dataset.\n",
        "        subset: Subset to load: train or val\n",
        "        \"\"\"\n",
        "        # Add classes. We have only one class to add.\n",
        "        #for i, class_ in enumerate(classes):\n",
        "        #  self.add_class(str(config_name), i+1, class_)\n",
        "        self.add_class(\"drinks\", 1, \"mdew\")\n",
        "        self.add_class(\"drinks\", 2, \"pepsi\")\n",
        "\n",
        "        # Train or validation dataset?\n",
        "        assert subset in [\"train\", \"val\"]\n",
        "        dataset_dir = os.path.join(dataset_dir, subset)\n",
        "\n",
        "        # Load annotations\n",
        "        # VGG Image Annotator saves each image in the form:\n",
        "        # { 'filename': '28503151_5b5b7ec140_b.jpg',\n",
        "        #   'regions': {\n",
        "        #       '0': {\n",
        "        #           'region_attributes': {},\n",
        "        #           'shape_attributes': {\n",
        "        #               'all_points_x': [...],\n",
        "        #               'all_points_y': [...],\n",
        "        #               'name': 'polygon'}},\n",
        "        #       ... more regions ...\n",
        "        #   },\n",
        "        #   'size': 100202\n",
        "        # }\n",
        "        # We mostly care about the x and y coordinates of each region\n",
        "        annotations1 = json.load(open(os.path.join(dataset_dir, \"coco_annot.json\")))\n",
        "        # print(annotations1)\n",
        "        annotations = list(annotations1.values())  # don't need the dict keys\n",
        "\n",
        "        # The VIA tool saves images in the JSON even if they don't have any\n",
        "        # annotations. Skip unannotated images.\n",
        "        annotations = [a for a in annotations if a['regions']]\n",
        "\n",
        "        # Add images\n",
        "        for a in annotations:\n",
        "            # Get the x, y coordinaets of points of the polygons that make up\n",
        "            # the outline of each object instance. There are stores in the\n",
        "            # shape_attributes (see json format above)\n",
        "            polygons = [r['shape_attributes'] for r in a['regions']]\n",
        "\n",
        "            # load_mask() needs the image size to convert polygons to masks.\n",
        "            # Unfortunately, VIA doesn't include it in JSON, so we must read\n",
        "            # the image. This is only managable since the dataset is tiny.\n",
        "            image_path = os.path.join(dataset_dir, a['filename'])\n",
        "            image = skimage.io.imread(image_path)\n",
        "            height, width = image.shape[:2]\n",
        "            objects = [s['region_attributes']['class'] for s in a['regions']]\n",
        "            print(\"Objects/Classes: \", objects)\n",
        "\n",
        "            name_dict = {\"mdew\": 1, \"pepsi\":2}\n",
        "            num_ids = [name_dict[a] for a in objects]\n",
        "            print(num_ids)\n",
        "\n",
        "            self.add_image(\n",
        "                \"drinks\",  ## for a single class just add the name here\n",
        "                image_id=a['filename'],  # use file name as a unique image id\n",
        "                path=image_path,\n",
        "                width=width, height=height,\n",
        "                polygons=polygons,\n",
        "                num_ids=num_ids)\n",
        "\n",
        "    def load_mask(self, image_id):\n",
        "        \"\"\"Generate instance masks for an image.\n",
        "       Returns:\n",
        "        masks: A bool array of shape [height, width, instance count] with\n",
        "            one mask per instance.\n",
        "        class_ids: a 1D array of class IDs of the instance masks.\n",
        "        \"\"\"\n",
        "        # If not a beagle dataset image, delegate to parent class.\n",
        "        image_info = self.image_info[image_id]\n",
        "        if image_info[\"source\"] != \"drinks\":\n",
        "            return super(self.__class__, self).load_mask(image_id)\n",
        "\n",
        "        # Convert polygons to a bitmap mask of shape\n",
        "        # [height, width, instance_count]\n",
        "        info = self.image_info[image_id]\n",
        "        num_ids = info['num_ids']\n",
        "        mask = np.zeros([info[\"height\"], info[\"width\"], len(info[\"polygons\"])],\n",
        "                        dtype=np.uint8)\n",
        "        for i, p in enumerate(info[\"polygons\"]):\n",
        "            # Get indexes of pixels inside the polygon and set them to 1\n",
        "            rr, cc = skimage.draw.polygon(p['all_points_y'], p['all_points_x'])\n",
        "            mask[rr, cc, i] = 1\n",
        "\n",
        "        # Return mask, and array of class IDs of each instance. Since we have\n",
        "        # one class ID only, we return an array of 1s\n",
        "        num_ids = np.array(num_ids, dtype=np.int32)\n",
        "        return mask, num_ids\n",
        "\n",
        "    def image_reference(self, image_id):\n",
        "        \"\"\"Return the path of the image.\"\"\"\n",
        "        info = self.image_info[image_id]\n",
        "        if info[\"source\"] == \"drinks\":\n",
        "            return info[\"path\"]\n",
        "        else:\n",
        "            super(self.__class__, self).image_reference(image_id)"
      ],
      "execution_count": null,
      "outputs": []
    },
    {
      "cell_type": "code",
      "metadata": {
        "id": "ULYpovtwshAY"
      },
      "source": [
        "def get_ax(rows=1, cols=1, size=8):\n",
        "  _, ax = plt.subplots(rows, cols, figsize=(size*cols, size*rows))\n",
        "  return ax"
      ],
      "execution_count": null,
      "outputs": []
    },
    {
      "cell_type": "markdown",
      "metadata": {
        "id": "LOnLs14tpy9Q"
      },
      "source": [
        "#Train"
      ]
    },
    {
      "cell_type": "code",
      "metadata": {
        "id": "SwWXweCupzrY"
      },
      "source": [
        "def train(model, config, dataset_dir, epochs):\n",
        "    \"\"\"Train the model.\"\"\"\n",
        "    # Training dataset.\n",
        "    dataset_train = CustomDataset()\n",
        "    dataset_train.load_custom(dataset_dir=dataset_dir, subset=\"train\")\n",
        "    dataset_train.prepare()\n",
        "\n",
        "    # Validation dataset\n",
        "    dataset_val = CustomDataset()\n",
        "    dataset_val.load_custom(dataset_dir=dataset_dir, subset=\"val\")\n",
        "    dataset_val.prepare()\n",
        "\n",
        "    # *** This training schedule is an example. Update to your needs ***\n",
        "    # Since we're using a very small dataset, and starting from\n",
        "    # COCO trained weights, we don't need to train too long. Also,\n",
        "    # no need to train all layers, just the heads should do it.\n",
        "    print(\"Training network heads\")\n",
        "    model.train(dataset_train, dataset_val,\n",
        "                learning_rate=config.LEARNING_RATE,\n",
        "                epochs=epochs,\n",
        "                layers='heads')\n",
        "\n",
        "\n",
        "def color_splash(image, mask):\n",
        "    \"\"\"Apply color splash effect.\n",
        "    image: RGB image [height, width, 3]\n",
        "    mask: instance segmentation mask [height, width, instance count]\n",
        "    Returns result image.\n",
        "    \"\"\"\n",
        "    # Make a grayscale copy of the image. The grayscale copy still\n",
        "    # has 3 RGB channels, though.\n",
        "    gray = skimage.color.gray2rgb(skimage.color.rgb2gray(image)) * 255\n",
        "    # We're treating all instances as one, so collapse the mask into one layer\n",
        "    mask = (np.sum(mask, -1, keepdims=True) >= 1)\n",
        "    # Copy color pixels from the original color image where mask is set\n",
        "    if mask.shape[0] > 0:\n",
        "        splash = np.where(mask, image, gray).astype(np.uint8)\n",
        "    else:\n",
        "        splash = gray\n",
        "    return splash\n",
        "\n",
        "\n",
        "def detect_and_color_splash(model, image_path=None, video_path=None, save_dir=None):\n",
        "    assert image_path or video_path\n",
        "\n",
        "    # Image or video?\n",
        "    if image_path:\n",
        "        # Run model detection and generate the color splash effect\n",
        "        print(\"Running on {}\".format(image_path))\n",
        "        # Read image\n",
        "        image = skimage.io.imread(image_path)\n",
        "        # Detect objects\n",
        "        r = model.detect([image], verbose=1)[0]\n",
        "        # Color splash\n",
        "        splash = color_splash(image, r['masks'])\n",
        "        # Save output\n",
        "        file_name = save_dir + \"/splash_{:%Y%m%dT%H%M%S}.png\".format(datetime.datetime.now())\n",
        "        skimage.io.imsave(file_name, splash)\n",
        "        plt.imshow(splash)\n",
        "    elif video_path:\n",
        "        import cv2\n",
        "        # Video capture\n",
        "        vcapture = cv2.VideoCapture(video_path)\n",
        "        width = int(vcapture.get(cv2.CAP_PROP_FRAME_WIDTH))\n",
        "        height = int(vcapture.get(cv2.CAP_PROP_FRAME_HEIGHT))\n",
        "        fps = vcapture.get(cv2.CAP_PROP_FPS)\n",
        "\n",
        "        # Define codec and create video writer\n",
        "        file_name = save_dir + \"/splash_{:%Y%m%dT%H%M%S}.avi\".format(datetime.datetime.now())\n",
        "        vwriter = cv2.VideoWriter(file_name,\n",
        "                                  cv2.VideoWriter_fourcc(*'MJPG'),\n",
        "                                  fps, (width, height))\n",
        "\n",
        "        count = 0\n",
        "        success = True\n",
        "        while success:\n",
        "            print(\"frame: \", count)\n",
        "            # Read next image\n",
        "            success, image = vcapture.read()\n",
        "            if success:\n",
        "                # OpenCV returns images as BGR, convert to RGB\n",
        "                image = image[..., ::-1]\n",
        "                # Detect objects\n",
        "                r = model.detect([image], verbose=0)[0]\n",
        "                # Color splash\n",
        "                splash = color_splash(image, r['masks'])\n",
        "                # RGB -> BGR to save image to video\n",
        "                splash = splash[..., ::-1]\n",
        "                # Add image to video writer\n",
        "                vwriter.write(splash)\n",
        "                count += 1\n",
        "        vwriter.release()\n",
        "    print(\"Saved to \", file_name)"
      ],
      "execution_count": null,
      "outputs": []
    },
    {
      "cell_type": "code",
      "metadata": {
        "id": "DIPNjy4YEG6X"
      },
      "source": [
        "DEVICE = \"/gpu:0\""
      ],
      "execution_count": null,
      "outputs": []
    },
    {
      "cell_type": "code",
      "metadata": {
        "id": "G29HTN0LlWO3"
      },
      "source": [
        "tf.test.gpu_device_name()\n",
        "device_lib.list_local_devices()"
      ],
      "execution_count": null,
      "outputs": []
    },
    {
      "cell_type": "code",
      "metadata": {
        "id": "ZGlmp_rEqwxp",
        "collapsed": true
      },
      "source": [
        "DATASET_DIR = \"/content/drive/My Drive/images\"\n",
        "LOGS_DIR = DEFAULT_LOGS_DIR\n",
        "WEIGHTS = \"coco\"\n",
        "\n",
        "print(\"Weights: \", WEIGHTS)\n",
        "print(\"Dataset: \", DATASET_DIR)\n",
        "\n",
        "train_config = CustomConfig()\n",
        "train_config.display()\n",
        "\n",
        "# Prepare the model\n",
        "with tf.device(DEVICE):\n",
        "  model = modellib.MaskRCNN(mode=\"training\", config=train_config, model_dir=LOGS_DIR)\n",
        "\n",
        "# Prepare the weights\n",
        "# Select weights file to load\n",
        "if WEIGHTS.lower() == \"coco\":\n",
        "    weights_path = COCO_WEIGHTS_PATH\n",
        "    # Download weights file\n",
        "    if not os.path.exists(weights_path):\n",
        "        utils.download_trained_weights(weights_path)\n",
        "elif WEIGHTS.lower() == \"last\":\n",
        "    # Find last trained weights\n",
        "    weights_path = model.find_last()[1]\n",
        "elif WEIGHTS.lower() == \"imagenet\":\n",
        "    # Start from ImageNet trained weights\n",
        "    weights_path = model.get_imagenet_weights()\n",
        "else:\n",
        "    weights_path = WEIGHTS\n",
        "\n",
        "# Load weights\n",
        "print(\"Loading weights \", weights_path)\n",
        "if WEIGHTS.lower() == \"coco\":\n",
        "    # Exclude the last layers because they require a matching\n",
        "    # number of classes\n",
        "    model.load_weights(weights_path, by_name=True, exclude=[\"mrcnn_class_logits\", \"mrcnn_bbox_fc\",\"mrcnn_bbox\", \"mrcnn_mask\"])\n",
        "else:\n",
        "    model.load_weights(weights_path, by_name=True)\n",
        "\n"
      ],
      "execution_count": null,
      "outputs": []
    },
    {
      "cell_type": "code",
      "metadata": {
        "id": "zwH3m01ZZ15o"
      },
      "source": [
        "############################################################\n",
        "#  Start training\n",
        "############################################################\n",
        "train(model, config=train_config, dataset_dir=DATASET_DIR, epochs=50)"
      ],
      "execution_count": null,
      "outputs": []
    },
    {
      "cell_type": "markdown",
      "metadata": {
        "id": "MNWxjNO9siig"
      },
      "source": [
        "# Validation"
      ]
    },
    {
      "cell_type": "markdown",
      "metadata": {
        "id": "RzlnReP1tKtl"
      },
      "source": [
        "Change:\n",
        "- weights_path\n",
        "- config\n",
        "- LOGS_DIR"
      ]
    },
    {
      "cell_type": "code",
      "metadata": {
        "id": "pAQky30qtKIo"
      },
      "source": [
        "weights_path = \"/content/drive/My Drive/logs/drinks20211012T0224/mask_rcnn_drinks_0025.h5\""
      ],
      "execution_count": null,
      "outputs": []
    },
    {
      "cell_type": "code",
      "metadata": {
        "id": "NG5WcbbKss1h"
      },
      "source": [
        "class InferenceConfig(CustomConfig):\n",
        "    # Set batch size to 1 since we'll be running inference on\n",
        "    # one image at a time. Batch size = GPU_COUNT * IMAGES_PER_GPU\n",
        "    GPU_COUNT = 1\n",
        "    IMAGES_PER_GPU = 1"
      ],
      "execution_count": null,
      "outputs": []
    },
    {
      "cell_type": "code",
      "metadata": {
        "id": "1ToEoEnvsjqJ"
      },
      "source": [
        "config = InferenceConfig()\n",
        "config.display()\n",
        "\n",
        "# Load validation dataset\n",
        "dataset = CustomDataset()\n",
        "dataset.load_custom(dataset_dir=DATASET_DIR, subset=\"val\")\n",
        "\n",
        "dataset.prepare()\n",
        "\n",
        "print(\"Images: {}\\nClasses: {}\".format(len(dataset.image_ids), dataset.class_names))\n",
        "\n",
        "# Create model in inference mode\n",
        "config = InferenceConfig()\n",
        "with tf.device(DEVICE):\n",
        "  model = modellib.MaskRCNN(mode='inference', model_dir=LOGS_DIR, config=config)\n",
        "\n",
        "print(\"Loading weights: \", weights_path)\n",
        "model.load_weights(weights_path, by_name=True)\n",
        "\n",
        "image_id = random.choice(dataset.image_ids)\n",
        "image, image_meta, gt_class_id, gt_bbox, gt_mask = modellib.load_image_gt(dataset, config, image_id, use_mini_mask=False)\n",
        "\n",
        "info = dataset.image_info[image_id]\n",
        "print(\"Image ID: {}.{} ({}) {}\".format(info['source'], info['id'], image_id, dataset.image_reference(image_id)))\n",
        "\n",
        "# Run object detection\n",
        "results = model.detect([image], verbose=1)\n",
        "\n",
        "ax = get_ax(1)\n",
        "r = results[0]\n",
        "visualize.display_instances(image, r['rois'], r['masks'], r['class_ids'], dataset.class_names, r['scores'], ax=ax, title='Predictions')\n",
        "\n",
        "log('gt_class_id', gt_class_id)\n",
        "log('gt_bbox', gt_bbox)\n",
        "log('gt_mask', gt_mask)"
      ],
      "execution_count": null,
      "outputs": []
    },
    {
      "cell_type": "markdown",
      "metadata": {
        "id": "v0NZlIXprXp3"
      },
      "source": [
        "# Inference"
      ]
    },
    {
      "cell_type": "markdown",
      "metadata": {
        "id": "_TdK6R4ftbrz"
      },
      "source": [
        "Change:\n",
        "- weights_path\n",
        "- config\n",
        "- LOGS_DIR"
      ]
    },
    {
      "cell_type": "code",
      "metadata": {
        "id": "kt4jdhvECxgK"
      },
      "source": [
        "image_path = \"/content/drive/My Drive/images/mdew_pepsi/test/pepsi/1.jpg\""
      ],
      "execution_count": null,
      "outputs": []
    },
    {
      "cell_type": "code",
      "metadata": {
        "id": "m92sHwfoClH5"
      },
      "source": [
        "# Run object detection\n",
        "image = skimage.io.imread(image_path)\n",
        "results = model.detect([image], verbose=1)\n",
        "\n",
        "ax = get_ax(1)\n",
        "r = results[0]\n",
        "visualize.display_instances(image, r['rois'], r['masks'], r['class_ids'], dataset.class_names, r['scores'], ax=ax, title='Predictions')"
      ],
      "execution_count": null,
      "outputs": []
    },
    {
      "cell_type": "markdown",
      "metadata": {
        "id": "XZ8aB0bRCiIR"
      },
      "source": [
        "#Detect and Splash"
      ]
    },
    {
      "cell_type": "code",
      "metadata": {
        "id": "CcxFjf4LBrcU"
      },
      "source": [
        "detect_and_color_splash(model, image_path=\"/content/drive/My Drive/test/pepsi/1.jpg\", save_dir=\"/content/drive/My Drive/\")"
      ],
      "execution_count": null,
      "outputs": []
    },
    {
      "cell_type": "code",
      "metadata": {
        "id": "6MXjD6e4CKSh"
      },
      "source": [
        "detect_and_color_splash(model, image_path=\"/content/drive/My Drive/Computer Vision/test/m_dew/2.jpg\", save_dir=\"/content/drive/My Drive/\")"
      ],
      "execution_count": null,
      "outputs": []
    },
    {
      "cell_type": "code",
      "metadata": {
        "id": "2aqRu7JyrEiw"
      },
      "source": [
        "config = InferenceConfig()\n",
        "with tf.device(DEVICE):\n",
        "  model = modellib.MaskRCNN(mode=\"inference\", model_dir=DEFAULT_LOGS_DIR, config=config)\n",
        "\n",
        "model.load_weights(weights_path, by_name=True)\n",
        "\n",
        "image_path = \"/content/drive/My Drive/val/1406.jpg\"\n",
        "\n",
        "# Run object detection\n",
        "image = skimage.io.imread(image_path)\n",
        "results = model.detect([image], verbose=1)\n",
        "\n",
        "ax = get_ax(1)\n",
        "r = results[0]\n",
        "visualize.display_instances(image, r['rois'], r['masks'], r['class_ids'], ['BG', 'mdew', 'pepsi'], r['scores'], ax=ax, title='Predictions')"
      ],
      "execution_count": null,
      "outputs": []
    },
    {
      "cell_type": "code",
      "metadata": {
        "id": "0Rq6MjwHsFDa"
      },
      "source": [
        "config = InferenceConfig()\n",
        "with tf.device(DEVICE):\n",
        "  model = modellib.MaskRCNN(mode=\"inference\", model_dir=DEFAULT_LOGS_DIR, config=config)\n",
        "\n",
        "model.load_weights(weights_path, by_name=True)\n",
        "\n",
        "image_path = \"/content/drive/My Drive/test/pepsi/4.jpg\"\n",
        "\n",
        "# Run object detection\n",
        "image = skimage.io.imread(image_path)\n",
        "results = model.detect([image], verbose=1)\n",
        "\n",
        "ax = get_ax(1)\n",
        "r = results[0]\n",
        "visualize.display_instances(image, r['rois'], r['masks'], r['class_ids'], ['BG', 'mdew', 'pepsi'], r['scores'], ax=ax, title='Predictions')"
      ],
      "execution_count": null,
      "outputs": []
    },
    {
      "cell_type": "code",
      "metadata": {
        "id": "uGW1ypGvuK-N"
      },
      "source": [
        "config = InferenceConfig()\n",
        "with tf.device(DEVICE):\n",
        "  model = modellib.MaskRCNN(mode=\"inference\", model_dir=DEFAULT_LOGS_DIR, config=config)\n",
        "\n",
        "model.load_weights(weights_path, by_name=True)\n",
        "\n",
        "image_path = \"/content/drive/My Drive/test/pepsi/10.jpg\"\n",
        "\n",
        "# Run object detection\n",
        "image = skimage.io.imread(image_path)\n",
        "results = model.detect([image], verbose=1)\n",
        "\n",
        "ax = get_ax(1)\n",
        "r = results[0]\n",
        "visualize.display_instances(image, r['rois'], r['masks'], r['class_ids'], ['BG', 'mdew', 'pepsi'], r['scores'], ax=ax, title='Predictions')"
      ],
      "execution_count": null,
      "outputs": []
    },
    {
      "cell_type": "code",
      "metadata": {
        "id": "OpEX8wkNutRi"
      },
      "source": [
        "image_path = \"/content/drive/My Drive/test/pepsi/9.jpg\"\n",
        "\n",
        "# Run object detection\n",
        "image = skimage.io.imread(image_path)\n",
        "results = model.detect([image], verbose=1)\n",
        "\n",
        "ax = get_ax(1)\n",
        "r = results[0]\n",
        "visualize.display_instances(image, r['rois'], r['masks'], r['class_ids'], ['BG', 'mdew', 'pepsi'], r['scores'], ax=ax, title='Predictions')"
      ],
      "execution_count": null,
      "outputs": []
    },
    {
      "cell_type": "code",
      "metadata": {
        "id": "5I_hCijvuuAe"
      },
      "source": [
        "image_path = \"/content/drive/My Drive/test/m_dew/8.jpg\"\n",
        "\n",
        "# Run object detection\n",
        "image = skimage.io.imread(image_path)\n",
        "results = model.detect([image], verbose=1)\n",
        "\n",
        "ax = get_ax(1)\n",
        "r = results[0]\n",
        "visualize.display_instances(image, r['rois'], r['masks'], r['class_ids'], ['BG', 'mdew', 'pepsi'], r['scores'], ax=ax, title='Predictions')"
      ],
      "execution_count": null,
      "outputs": []
    },
    {
      "cell_type": "code",
      "metadata": {
        "id": "B3oxitN1y82t"
      },
      "source": [
        "image_path = \"/content/drive/My Drive/test/m_dew/4.jpg\"\n",
        "\n",
        "# Run object detection\n",
        "image = skimage.io.imread(image_path)\n",
        "results = model.detect([image], verbose=1)\n",
        "\n",
        "ax = get_ax(1)\n",
        "r = results[0]\n",
        "visualize.display_instances(image, r['rois'], r['masks'], r['class_ids'], ['BG', 'mdew', 'pepsi'], r['scores'], ax=ax, title='Predictions')"
      ],
      "execution_count": null,
      "outputs": []
    },
    {
      "cell_type": "code",
      "metadata": {
        "id": "TN1XsDWqzK0o"
      },
      "source": [
        "image_path = \"/content/drive/My Drive/test/m_dew/3.jpg\"\n",
        "\n",
        "# Run object detection\n",
        "image = skimage.io.imread(image_path)\n",
        "results = model.detect([image], verbose=1)\n",
        "\n",
        "ax = get_ax(1)\n",
        "r = results[0]\n",
        "visualize.display_instances(image, r['rois'], r['masks'], r['class_ids'], ['BG', 'mdew', 'pepsi'], r['scores'], ax=ax, title='Predictions')"
      ],
      "execution_count": null,
      "outputs": []
    },
    {
      "cell_type": "code",
      "metadata": {
        "id": "Y_1VZXAvzOQV"
      },
      "source": [
        "print(np.__version__)\n",
        "import matplotlib\n",
        "print(matplotlib.__version__)\n",
        "print(skimage.__version__)\n",
        "import keras\n",
        "print(keras.__version__)"
      ],
      "execution_count": null,
      "outputs": []
    },
    {
      "cell_type": "code",
      "metadata": {
        "id": "9NYQn4ZOB0Y1"
      },
      "source": [
        ""
      ],
      "execution_count": null,
      "outputs": []
    }
  ]
}