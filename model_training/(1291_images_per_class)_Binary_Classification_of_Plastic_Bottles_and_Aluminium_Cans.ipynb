{
  "nbformat": 4,
  "nbformat_minor": 0,
  "metadata": {
    "colab": {
      "name": "(1291 images per class) Binary Classification of Plastic Bottles and Aluminium Cans.ipynb",
      "provenance": [],
      "collapsed_sections": []
    },
    "kernelspec": {
      "name": "python3",
      "display_name": "Python 3"
    },
    "language_info": {
      "name": "python"
    },
    "accelerator": "GPU"
  },
  "cells": [
    {
      "cell_type": "code",
      "metadata": {
        "colab": {
          "base_uri": "https://localhost:8080/"
        },
        "id": "EeV2OLyApOe9",
        "outputId": "6285dd18-d944-4ade-a0e9-0addb1c2a343"
      },
      "source": [
        "from google.colab import drive\n",
        "drive.mount(\"/content/drive\")"
      ],
      "execution_count": 44,
      "outputs": [
        {
          "output_type": "stream",
          "name": "stdout",
          "text": [
            "Drive already mounted at /content/drive; to attempt to forcibly remount, call drive.mount(\"/content/drive\", force_remount=True).\n"
          ]
        }
      ]
    },
    {
      "cell_type": "markdown",
      "source": [
        "This dataset contains two classes: Plastic bottles and Aluminium cans.\n",
        "\n",
        "Plastic bottles:\n",
        "  - train: 903 images\n",
        "  - validation: 193 images\n",
        "  - test: 195 images\n",
        "\n",
        "Aluminium cans:\n",
        "  - train: 903 images\n",
        "  - validation: 193 images\n",
        "  - test: 195 images\n",
        "\n",
        "All images are resized to (224, 224, 3) prior to feeding into network. The resized images are not heavily distorted but this step was to check whether the features are suppressed after resizing."
      ],
      "metadata": {
        "id": "lu8Wmvt5xO-P"
      }
    },
    {
      "cell_type": "code",
      "metadata": {
        "id": "QSqpQ9dsr5sQ",
        "colab": {
          "base_uri": "https://localhost:8080/"
        },
        "outputId": "23fa7b0c-73b6-4988-8de6-21d56e75932c"
      },
      "source": [
        "!unzip /content/drive/My\\ Drive/Reverse\\ Vending\\ Machine/ObjectDetector/v2/my_dataset_split_v2.zip > /dev/null"
      ],
      "execution_count": 45,
      "outputs": [
        {
          "output_type": "stream",
          "name": "stdout",
          "text": [
            "replace 1293_split_v2/test/bottle/0217015045.jpg? [y]es, [n]o, [A]ll, [N]one, [r]ename: N\n"
          ]
        }
      ]
    },
    {
      "cell_type": "code",
      "metadata": {
        "id": "LzKheZeZwZUa"
      },
      "source": [
        "import os\n",
        "import numpy as np\n",
        "import matplotlib.pyplot as plt\n",
        "\n",
        "from sklearn.metrics import classification_report\n",
        "from sklearn.metrics import classification_report, confusion_matrix\n",
        "\n",
        "import tensorflow as tf\n",
        "from tensorflow.keras.models import Sequential\n",
        "from tensorflow.keras.layers import Flatten, Dense\n",
        "from tensorflow.keras.optimizers import Adam\n",
        "from tensorflow.keras.preprocessing.image import ImageDataGenerator\n"
      ],
      "execution_count": 46,
      "outputs": []
    },
    {
      "cell_type": "code",
      "metadata": {
        "id": "zsLCzxQEwoRB"
      },
      "source": [
        "train_data = '1293_split_v2/train'\n",
        "val_data = '1293_split_v2/val'\n",
        "test_data = '1293_split_v2/test'"
      ],
      "execution_count": 47,
      "outputs": []
    },
    {
      "cell_type": "markdown",
      "source": [
        "The generate_data() function helps to retrieve images from the directory and perform any necessary preprocessing steps such as augmentation."
      ],
      "metadata": {
        "id": "6sG8JTbKy71z"
      }
    },
    {
      "cell_type": "code",
      "metadata": {
        "id": "Ogb6ciyLqD5d"
      },
      "source": [
        "def generate_data(train_dir, val_dir, test_dir, image_size=224, class_mode=\"binary\", augmentation=False):\n",
        "  if augmentation:\n",
        "    train_datagen = ImageDataGenerator(rescale = 1./255,\n",
        "                                   shear_range = 0.2,\n",
        "                                   zoom_range = 0.2,\n",
        "                                   horizontal_flip = True,\n",
        "                                   width_shift_range=0.2,\n",
        "                                   height_shift_range=0.2,\n",
        "                                   rotation_range=15,\n",
        "                                   vertical_flip=True,\n",
        "                                   fill_mode='reflect',\n",
        "                                   data_format='channels_last',\n",
        "                                   brightness_range=[0.5, 1.5],\n",
        "                                   featurewise_center=True,\n",
        "                                   featurewise_std_normalization=True)\n",
        "  else:\n",
        "    train_datagen = ImageDataGenerator(rescale=1./255)\n",
        "\n",
        "  test_datagen = ImageDataGenerator(rescale=1./255)\n",
        "\n",
        "  train_generator = train_datagen.flow_from_directory(train_dir, target_size=(image_size, image_size), batch_size=5, class_mode=class_mode)\n",
        "  validation_generator = test_datagen.flow_from_directory(val_dir, target_size=(image_size, image_size), batch_size=2, class_mode=class_mode)\n",
        "  test_generator = test_datagen.flow_from_directory(test_dir, target_size=(image_size, image_size), batch_size=2, class_mode=class_mode, shuffle=False)\n",
        "\n",
        "  # Output of the generator\n",
        "  for data, label in train_generator:\n",
        "    print(\"Data batch shape: \", data.shape)\n",
        "    print(\"Label batch shape: \", label.shape)\n",
        "    break\n",
        "\n",
        "  return train_generator, validation_generator, test_generator"
      ],
      "execution_count": 48,
      "outputs": []
    },
    {
      "cell_type": "markdown",
      "source": [
        "We are using transfer learning here with a base network of VGG16 paired with the weights of ImageNet. Transfer learning is preferred when there is not a lot of data to start with, and it can also save some training time."
      ],
      "metadata": {
        "id": "J-JH7UwNyDOx"
      }
    },
    {
      "cell_type": "code",
      "metadata": {
        "id": "XHDYi3TYpuE0",
        "colab": {
          "base_uri": "https://localhost:8080/"
        },
        "outputId": "c9c8cba8-506d-452d-a2d1-580618070e7e"
      },
      "source": [
        "from tensorflow.keras.layers import Input\n",
        "vgg16 = tf.keras.applications.vgg16.VGG16(weights=\"imagenet\", include_top=False, input_tensor=Input(shape=(224, 224, 3)))\n",
        "model = Sequential()\n",
        "for layer in vgg16.layers[:-1]:\n",
        "  model.add(layer)\n",
        "\n",
        "for layer in model.layers:\n",
        "  layer.trainable = False\n",
        "\n",
        "model.add(Flatten())\n",
        "model.add(Dense(units=1, activation='sigmoid'))\n",
        "model.summary()"
      ],
      "execution_count": 49,
      "outputs": [
        {
          "output_type": "stream",
          "name": "stdout",
          "text": [
            "Model: \"sequential_1\"\n",
            "_________________________________________________________________\n",
            " Layer (type)                Output Shape              Param #   \n",
            "=================================================================\n",
            " block1_conv1 (Conv2D)       (None, 224, 224, 64)      1792      \n",
            "                                                                 \n",
            " block1_conv2 (Conv2D)       (None, 224, 224, 64)      36928     \n",
            "                                                                 \n",
            " block1_pool (MaxPooling2D)  (None, 112, 112, 64)      0         \n",
            "                                                                 \n",
            " block2_conv1 (Conv2D)       (None, 112, 112, 128)     73856     \n",
            "                                                                 \n",
            " block2_conv2 (Conv2D)       (None, 112, 112, 128)     147584    \n",
            "                                                                 \n",
            " block2_pool (MaxPooling2D)  (None, 56, 56, 128)       0         \n",
            "                                                                 \n",
            " block3_conv1 (Conv2D)       (None, 56, 56, 256)       295168    \n",
            "                                                                 \n",
            " block3_conv2 (Conv2D)       (None, 56, 56, 256)       590080    \n",
            "                                                                 \n",
            " block3_conv3 (Conv2D)       (None, 56, 56, 256)       590080    \n",
            "                                                                 \n",
            " block3_pool (MaxPooling2D)  (None, 28, 28, 256)       0         \n",
            "                                                                 \n",
            " block4_conv1 (Conv2D)       (None, 28, 28, 512)       1180160   \n",
            "                                                                 \n",
            " block4_conv2 (Conv2D)       (None, 28, 28, 512)       2359808   \n",
            "                                                                 \n",
            " block4_conv3 (Conv2D)       (None, 28, 28, 512)       2359808   \n",
            "                                                                 \n",
            " block4_pool (MaxPooling2D)  (None, 14, 14, 512)       0         \n",
            "                                                                 \n",
            " block5_conv1 (Conv2D)       (None, 14, 14, 512)       2359808   \n",
            "                                                                 \n",
            " block5_conv2 (Conv2D)       (None, 14, 14, 512)       2359808   \n",
            "                                                                 \n",
            " block5_conv3 (Conv2D)       (None, 14, 14, 512)       2359808   \n",
            "                                                                 \n",
            " flatten_1 (Flatten)         (None, 100352)            0         \n",
            "                                                                 \n",
            " dense_1 (Dense)             (None, 1)                 100353    \n",
            "                                                                 \n",
            "=================================================================\n",
            "Total params: 14,815,041\n",
            "Trainable params: 100,353\n",
            "Non-trainable params: 14,714,688\n",
            "_________________________________________________________________\n"
          ]
        }
      ]
    },
    {
      "cell_type": "code",
      "metadata": {
        "id": "81uqCjMFpy4i"
      },
      "source": [
        "# Train\n",
        "model.compile(optimizer=Adam(learning_rate=1e-5), \n",
        "                loss='binary_crossentropy', \n",
        "                metrics=['accuracy', tf.keras.metrics.Recall(), tf.keras.metrics.Precision(), tf.keras.metrics.AUC()])"
      ],
      "execution_count": 50,
      "outputs": []
    },
    {
      "cell_type": "code",
      "metadata": {
        "id": "lp1-FbAhp0t3",
        "colab": {
          "base_uri": "https://localhost:8080/"
        },
        "outputId": "4629e42b-dfcc-45cf-c88c-9275904ca187"
      },
      "source": [
        "train_generator, validation_generator, test_generator = generate_data(train_data, val_data, test_data, class_mode=\"binary\", augmentation=False)"
      ],
      "execution_count": 51,
      "outputs": [
        {
          "output_type": "stream",
          "name": "stdout",
          "text": [
            "Found 1806 images belonging to 2 classes.\n",
            "Found 386 images belonging to 2 classes.\n",
            "Found 390 images belonging to 2 classes.\n",
            "Data batch shape:  (5, 224, 224, 3)\n",
            "Label batch shape:  (5,)\n"
          ]
        }
      ]
    },
    {
      "cell_type": "code",
      "metadata": {
        "id": "zjtEhvBbp4Of",
        "colab": {
          "base_uri": "https://localhost:8080/"
        },
        "outputId": "f6b0ba77-31ea-4f09-b8ab-36c98fb18370"
      },
      "source": [
        "tf.config.run_functions_eagerly(True)\n",
        "history = model.fit_generator(train_generator, \n",
        "                                steps_per_epoch=10, \n",
        "                                epochs=50, \n",
        "                                validation_data=validation_generator, \n",
        "                                validation_steps=10\n",
        "                                )"
      ],
      "execution_count": 52,
      "outputs": [
        {
          "output_type": "stream",
          "name": "stdout",
          "text": [
            "Epoch 1/50\n"
          ]
        },
        {
          "output_type": "stream",
          "name": "stderr",
          "text": [
            "/usr/local/lib/python3.7/dist-packages/ipykernel_launcher.py:6: UserWarning: `Model.fit_generator` is deprecated and will be removed in a future version. Please use `Model.fit`, which supports generators.\n",
            "  \n",
            "/usr/local/lib/python3.7/dist-packages/tensorflow/python/data/ops/structured_function.py:265: UserWarning: Even though the `tf.config.experimental_run_functions_eagerly` option is set, this option does not apply to tf.data functions. To force eager execution of tf.data functions, please use `tf.data.experimental.enable_debug_mode()`.\n",
            "  \"Even though the `tf.config.experimental_run_functions_eagerly` \"\n"
          ]
        },
        {
          "output_type": "stream",
          "name": "stdout",
          "text": [
            "10/10 [==============================] - 2s 192ms/step - loss: 0.7419 - accuracy: 0.5600 - recall_1: 0.0000e+00 - precision_1: 0.0000e+00 - auc_1: 0.1833 - val_loss: 0.7308 - val_accuracy: 0.5500 - val_recall_1: 0.0000e+00 - val_precision_1: 0.0000e+00 - val_auc_1: 0.2576\n",
            "Epoch 2/50\n",
            "10/10 [==============================] - 2s 212ms/step - loss: 0.7697 - accuracy: 0.4200 - recall_1: 0.0000e+00 - precision_1: 0.0000e+00 - auc_1: 0.3415 - val_loss: 0.7151 - val_accuracy: 0.5500 - val_recall_1: 0.1000 - val_precision_1: 1.0000 - val_auc_1: 0.4800\n",
            "Epoch 3/50\n",
            "10/10 [==============================] - 2s 211ms/step - loss: 0.7061 - accuracy: 0.5200 - recall_1: 0.1852 - precision_1: 0.7143 - auc_1: 0.4976 - val_loss: 0.6639 - val_accuracy: 0.6000 - val_recall_1: 0.3333 - val_precision_1: 0.6000 - val_auc_1: 0.7020\n",
            "Epoch 4/50\n",
            "10/10 [==============================] - 2s 212ms/step - loss: 0.6867 - accuracy: 0.5400 - recall_1: 0.5000 - precision_1: 0.6087 - auc_1: 0.5552 - val_loss: 0.6721 - val_accuracy: 0.5000 - val_recall_1: 0.5556 - val_precision_1: 0.4545 - val_auc_1: 0.5859\n",
            "Epoch 5/50\n",
            "10/10 [==============================] - 2s 186ms/step - loss: 0.6174 - accuracy: 0.7200 - recall_1: 0.8519 - precision_1: 0.6970 - auc_1: 0.8502 - val_loss: 0.6329 - val_accuracy: 0.7000 - val_recall_1: 0.8333 - val_precision_1: 0.7143 - val_auc_1: 0.8281\n",
            "Epoch 6/50\n",
            "10/10 [==============================] - 2s 184ms/step - loss: 0.6370 - accuracy: 0.6800 - recall_1: 0.7037 - precision_1: 0.7037 - auc_1: 0.7947 - val_loss: 0.5985 - val_accuracy: 0.9000 - val_recall_1: 0.8889 - val_precision_1: 0.8889 - val_auc_1: 0.9646\n",
            "Epoch 7/50\n",
            "10/10 [==============================] - 2s 211ms/step - loss: 0.5673 - accuracy: 0.8800 - recall_1: 0.9600 - precision_1: 0.8276 - auc_1: 0.9600 - val_loss: 0.5660 - val_accuracy: 0.8500 - val_recall_1: 0.7692 - val_precision_1: 1.0000 - val_auc_1: 0.8681\n",
            "Epoch 8/50\n",
            "10/10 [==============================] - 2s 209ms/step - loss: 0.5383 - accuracy: 0.9000 - recall_1: 0.7826 - precision_1: 1.0000 - auc_1: 0.9340 - val_loss: 0.5462 - val_accuracy: 0.9000 - val_recall_1: 0.7500 - val_precision_1: 1.0000 - val_auc_1: 0.9219\n",
            "Epoch 9/50\n",
            "10/10 [==============================] - 2s 223ms/step - loss: 0.5453 - accuracy: 0.8400 - recall_1: 0.7308 - precision_1: 0.9500 - auc_1: 0.9183 - val_loss: 0.5167 - val_accuracy: 0.9000 - val_recall_1: 0.9000 - val_precision_1: 0.9000 - val_auc_1: 0.9700\n",
            "Epoch 10/50\n",
            "10/10 [==============================] - 2s 188ms/step - loss: 0.5095 - accuracy: 0.9000 - recall_1: 0.8750 - precision_1: 0.9655 - auc_1: 0.9549 - val_loss: 0.5580 - val_accuracy: 0.8500 - val_recall_1: 0.6667 - val_precision_1: 1.0000 - val_auc_1: 0.8434\n",
            "Epoch 11/50\n",
            "10/10 [==============================] - 2s 211ms/step - loss: 0.5191 - accuracy: 0.8200 - recall_1: 0.7407 - precision_1: 0.9091 - auc_1: 0.8937 - val_loss: 0.4710 - val_accuracy: 0.9500 - val_recall_1: 0.8333 - val_precision_1: 1.0000 - val_auc_1: 0.9881\n",
            "Epoch 12/50\n",
            "10/10 [==============================] - 2s 210ms/step - loss: 0.5009 - accuracy: 0.9000 - recall_1: 0.8000 - precision_1: 0.9412 - auc_1: 0.9442 - val_loss: 0.4869 - val_accuracy: 0.9000 - val_recall_1: 0.7500 - val_precision_1: 1.0000 - val_auc_1: 0.9271\n",
            "Epoch 13/50\n",
            "10/10 [==============================] - 2s 187ms/step - loss: 0.4814 - accuracy: 0.9200 - recall_1: 0.8400 - precision_1: 1.0000 - auc_1: 0.9520 - val_loss: 0.4520 - val_accuracy: 0.9000 - val_recall_1: 0.8182 - val_precision_1: 1.0000 - val_auc_1: 0.9949\n",
            "Epoch 14/50\n",
            "10/10 [==============================] - 2s 188ms/step - loss: 0.4476 - accuracy: 0.9000 - recall_1: 0.7917 - precision_1: 1.0000 - auc_1: 0.9575 - val_loss: 0.4223 - val_accuracy: 0.9500 - val_recall_1: 0.9000 - val_precision_1: 1.0000 - val_auc_1: 0.9750\n",
            "Epoch 15/50\n",
            "10/10 [==============================] - 2s 189ms/step - loss: 0.4437 - accuracy: 0.8800 - recall_1: 0.8621 - precision_1: 0.9259 - auc_1: 0.9417 - val_loss: 0.4482 - val_accuracy: 0.9000 - val_recall_1: 0.8000 - val_precision_1: 1.0000 - val_auc_1: 0.9800\n",
            "Epoch 16/50\n",
            "10/10 [==============================] - 2s 212ms/step - loss: 0.4163 - accuracy: 0.9000 - recall_1: 0.9565 - precision_1: 0.8462 - auc_1: 0.9758 - val_loss: 0.3814 - val_accuracy: 0.9500 - val_recall_1: 0.9091 - val_precision_1: 1.0000 - val_auc_1: 0.9899\n",
            "Epoch 17/50\n",
            "10/10 [==============================] - 2s 186ms/step - loss: 0.4581 - accuracy: 0.9000 - recall_1: 0.8519 - precision_1: 0.9583 - auc_1: 0.9444 - val_loss: 0.3974 - val_accuracy: 0.9000 - val_recall_1: 1.0000 - val_precision_1: 0.8182 - val_auc_1: 0.9848\n",
            "Epoch 18/50\n",
            "10/10 [==============================] - 2s 211ms/step - loss: 0.4342 - accuracy: 0.9200 - recall_1: 0.8750 - precision_1: 0.9545 - auc_1: 0.9431 - val_loss: 0.3722 - val_accuracy: 0.9000 - val_recall_1: 0.8889 - val_precision_1: 0.8889 - val_auc_1: 0.9899\n",
            "Epoch 19/50\n",
            "10/10 [==============================] - 2s 211ms/step - loss: 0.4141 - accuracy: 0.9000 - recall_1: 0.8276 - precision_1: 1.0000 - auc_1: 0.9195 - val_loss: 0.3279 - val_accuracy: 0.9500 - val_recall_1: 0.9091 - val_precision_1: 1.0000 - val_auc_1: 1.0000\n",
            "Epoch 20/50\n",
            "10/10 [==============================] - 2s 187ms/step - loss: 0.3674 - accuracy: 0.9000 - recall_1: 0.9091 - precision_1: 0.8696 - auc_1: 0.9789 - val_loss: 0.3968 - val_accuracy: 0.8000 - val_recall_1: 0.7500 - val_precision_1: 0.7500 - val_auc_1: 0.9167\n",
            "Epoch 21/50\n",
            "10/10 [==============================] - 2s 202ms/step - loss: 0.3895 - accuracy: 0.8800 - recall_1: 0.7727 - precision_1: 0.9444 - auc_1: 0.9732 - val_loss: 0.3064 - val_accuracy: 0.9500 - val_recall_1: 0.8750 - val_precision_1: 1.0000 - val_auc_1: 0.9844\n",
            "Epoch 22/50\n",
            "10/10 [==============================] - 2s 212ms/step - loss: 0.4226 - accuracy: 0.8200 - recall_1: 0.7333 - precision_1: 0.9565 - auc_1: 0.9708 - val_loss: 0.5132 - val_accuracy: 0.7000 - val_recall_1: 0.5385 - val_precision_1: 1.0000 - val_auc_1: 0.9670\n",
            "Epoch 23/50\n",
            "10/10 [==============================] - 2s 211ms/step - loss: 0.3240 - accuracy: 0.8800 - recall_1: 0.7917 - precision_1: 0.9500 - auc_1: 0.9896 - val_loss: 0.3791 - val_accuracy: 0.9000 - val_recall_1: 0.8182 - val_precision_1: 1.0000 - val_auc_1: 0.9697\n",
            "Epoch 24/50\n",
            "10/10 [==============================] - 2s 188ms/step - loss: 0.3317 - accuracy: 0.9600 - recall_1: 0.9615 - precision_1: 0.9615 - auc_1: 0.9784 - val_loss: 0.4398 - val_accuracy: 0.8500 - val_recall_1: 0.7500 - val_precision_1: 0.8571 - val_auc_1: 0.8958\n",
            "Epoch 25/50\n",
            "10/10 [==============================] - 2s 187ms/step - loss: 0.3856 - accuracy: 0.8800 - recall_1: 0.9231 - precision_1: 0.8571 - auc_1: 0.9415 - val_loss: 0.3591 - val_accuracy: 0.8500 - val_recall_1: 0.7778 - val_precision_1: 0.8750 - val_auc_1: 0.9798\n",
            "Epoch 26/50\n",
            "10/10 [==============================] - 2s 212ms/step - loss: 0.4467 - accuracy: 0.7600 - recall_1: 0.6667 - precision_1: 0.9091 - auc_1: 0.8917 - val_loss: 0.3393 - val_accuracy: 0.9000 - val_recall_1: 0.8182 - val_precision_1: 1.0000 - val_auc_1: 0.9899\n",
            "Epoch 27/50\n",
            "10/10 [==============================] - 2s 181ms/step - loss: 0.2964 - accuracy: 0.9783 - recall_1: 1.0000 - precision_1: 0.9444 - auc_1: 0.9959 - val_loss: 0.2764 - val_accuracy: 0.9500 - val_recall_1: 0.9167 - val_precision_1: 1.0000 - val_auc_1: 1.0000\n",
            "Epoch 28/50\n",
            "10/10 [==============================] - 2s 213ms/step - loss: 0.3712 - accuracy: 0.8800 - recall_1: 0.8077 - precision_1: 0.9545 - auc_1: 0.9487 - val_loss: 0.2563 - val_accuracy: 1.0000 - val_recall_1: 1.0000 - val_precision_1: 1.0000 - val_auc_1: 1.0000\n",
            "Epoch 29/50\n",
            "10/10 [==============================] - 2s 191ms/step - loss: 0.3293 - accuracy: 0.8800 - recall_1: 0.7778 - precision_1: 1.0000 - auc_1: 0.9823 - val_loss: 0.4570 - val_accuracy: 0.7500 - val_recall_1: 0.6000 - val_precision_1: 0.8571 - val_auc_1: 0.8550\n",
            "Epoch 30/50\n",
            "10/10 [==============================] - 2s 189ms/step - loss: 0.3055 - accuracy: 0.9000 - recall_1: 0.8000 - precision_1: 1.0000 - auc_1: 0.9920 - val_loss: 0.3802 - val_accuracy: 0.9000 - val_recall_1: 0.8333 - val_precision_1: 1.0000 - val_auc_1: 0.9375\n",
            "Epoch 31/50\n",
            "10/10 [==============================] - 2s 186ms/step - loss: 0.3354 - accuracy: 0.8400 - recall_1: 0.8400 - precision_1: 0.8400 - auc_1: 0.9640 - val_loss: 0.3141 - val_accuracy: 0.9500 - val_recall_1: 0.9000 - val_precision_1: 1.0000 - val_auc_1: 0.9500\n",
            "Epoch 32/50\n",
            "10/10 [==============================] - 2s 192ms/step - loss: 0.3048 - accuracy: 0.9000 - recall_1: 0.8125 - precision_1: 0.8667 - auc_1: 0.9697 - val_loss: 0.2619 - val_accuracy: 0.9500 - val_recall_1: 0.8000 - val_precision_1: 1.0000 - val_auc_1: 1.0000\n",
            "Epoch 33/50\n",
            "10/10 [==============================] - 2s 187ms/step - loss: 0.3151 - accuracy: 0.9000 - recall_1: 0.8400 - precision_1: 0.9545 - auc_1: 0.9656 - val_loss: 0.2615 - val_accuracy: 0.9000 - val_recall_1: 0.9167 - val_precision_1: 0.9167 - val_auc_1: 0.9896\n",
            "Epoch 34/50\n",
            "10/10 [==============================] - 2s 213ms/step - loss: 0.3410 - accuracy: 0.8800 - recall_1: 0.8462 - precision_1: 0.9167 - auc_1: 0.9519 - val_loss: 0.3798 - val_accuracy: 0.9000 - val_recall_1: 0.8182 - val_precision_1: 1.0000 - val_auc_1: 0.9394\n",
            "Epoch 35/50\n",
            "10/10 [==============================] - 2s 187ms/step - loss: 0.2852 - accuracy: 0.9200 - recall_1: 0.8800 - precision_1: 0.9565 - auc_1: 0.9816 - val_loss: 0.4337 - val_accuracy: 0.7500 - val_recall_1: 0.6154 - val_precision_1: 1.0000 - val_auc_1: 0.9341\n",
            "Epoch 36/50\n",
            "10/10 [==============================] - 2s 190ms/step - loss: 0.3129 - accuracy: 0.9200 - recall_1: 0.8889 - precision_1: 0.9600 - auc_1: 0.9847 - val_loss: 0.3155 - val_accuracy: 0.9000 - val_recall_1: 0.8000 - val_precision_1: 1.0000 - val_auc_1: 0.9500\n",
            "Epoch 37/50\n",
            "10/10 [==============================] - 2s 189ms/step - loss: 0.2094 - accuracy: 0.9200 - recall_1: 0.9583 - precision_1: 0.8846 - auc_1: 0.9952 - val_loss: 0.4069 - val_accuracy: 0.8000 - val_recall_1: 0.6667 - val_precision_1: 1.0000 - val_auc_1: 0.9479\n",
            "Epoch 38/50\n",
            "10/10 [==============================] - 2s 188ms/step - loss: 0.3482 - accuracy: 0.8600 - recall_1: 0.7500 - precision_1: 1.0000 - auc_1: 0.9773 - val_loss: 0.2576 - val_accuracy: 0.9500 - val_recall_1: 0.8889 - val_precision_1: 1.0000 - val_auc_1: 0.9495\n",
            "Epoch 39/50\n",
            "10/10 [==============================] - 2s 211ms/step - loss: 0.2848 - accuracy: 0.9000 - recall_1: 0.8333 - precision_1: 0.9524 - auc_1: 0.9679 - val_loss: 0.2464 - val_accuracy: 0.9000 - val_recall_1: 0.8571 - val_precision_1: 1.0000 - val_auc_1: 1.0000\n",
            "Epoch 40/50\n",
            "10/10 [==============================] - 2s 213ms/step - loss: 0.2696 - accuracy: 0.9000 - recall_1: 0.8889 - precision_1: 0.9231 - auc_1: 0.9750 - val_loss: 0.4492 - val_accuracy: 0.8000 - val_recall_1: 0.7273 - val_precision_1: 0.8889 - val_auc_1: 0.8586\n",
            "Epoch 41/50\n",
            "10/10 [==============================] - 2s 187ms/step - loss: 0.3186 - accuracy: 0.8600 - recall_1: 0.7692 - precision_1: 0.9524 - auc_1: 0.9567 - val_loss: 0.2675 - val_accuracy: 0.8500 - val_recall_1: 0.7500 - val_precision_1: 1.0000 - val_auc_1: 1.0000\n",
            "Epoch 42/50\n",
            "10/10 [==============================] - 2s 212ms/step - loss: 0.2577 - accuracy: 0.9000 - recall_1: 0.8519 - precision_1: 0.9583 - auc_1: 0.9855 - val_loss: 0.2349 - val_accuracy: 0.9500 - val_recall_1: 0.8889 - val_precision_1: 1.0000 - val_auc_1: 1.0000\n",
            "Epoch 43/50\n",
            "10/10 [==============================] - 2s 215ms/step - loss: 0.3050 - accuracy: 0.8800 - recall_1: 0.8636 - precision_1: 0.8636 - auc_1: 0.9570 - val_loss: 0.3063 - val_accuracy: 0.9000 - val_recall_1: 0.7778 - val_precision_1: 1.0000 - val_auc_1: 0.9697\n",
            "Epoch 44/50\n",
            "10/10 [==============================] - 2s 192ms/step - loss: 0.2776 - accuracy: 0.9600 - recall_1: 0.9286 - precision_1: 1.0000 - auc_1: 0.9821 - val_loss: 0.2976 - val_accuracy: 0.8500 - val_recall_1: 0.8333 - val_precision_1: 0.7143 - val_auc_1: 0.9762\n",
            "Epoch 45/50\n",
            "10/10 [==============================] - 2s 214ms/step - loss: 0.2531 - accuracy: 0.9600 - recall_1: 0.9545 - precision_1: 0.9545 - auc_1: 0.9935 - val_loss: 0.2404 - val_accuracy: 0.9500 - val_recall_1: 0.8889 - val_precision_1: 1.0000 - val_auc_1: 0.9899\n",
            "Epoch 46/50\n",
            "10/10 [==============================] - 2s 189ms/step - loss: 0.2673 - accuracy: 0.9400 - recall_1: 0.8696 - precision_1: 1.0000 - auc_1: 0.9903 - val_loss: 0.2149 - val_accuracy: 0.9500 - val_recall_1: 0.8750 - val_precision_1: 1.0000 - val_auc_1: 1.0000\n",
            "Epoch 47/50\n",
            "10/10 [==============================] - 2s 214ms/step - loss: 0.3979 - accuracy: 0.8400 - recall_1: 0.6957 - precision_1: 0.9412 - auc_1: 0.8953 - val_loss: 0.2309 - val_accuracy: 0.9000 - val_recall_1: 0.8571 - val_precision_1: 0.8571 - val_auc_1: 0.9890\n",
            "Epoch 48/50\n",
            "10/10 [==============================] - 2s 213ms/step - loss: 0.3597 - accuracy: 0.8200 - recall_1: 0.9200 - precision_1: 0.7667 - auc_1: 0.9272 - val_loss: 0.1978 - val_accuracy: 0.9500 - val_recall_1: 0.9231 - val_precision_1: 1.0000 - val_auc_1: 1.0000\n",
            "Epoch 49/50\n",
            "10/10 [==============================] - 2s 191ms/step - loss: 0.3115 - accuracy: 0.8600 - recall_1: 0.8571 - precision_1: 0.8889 - auc_1: 0.9513 - val_loss: 0.2699 - val_accuracy: 0.8500 - val_recall_1: 0.6667 - val_precision_1: 1.0000 - val_auc_1: 1.0000\n",
            "Epoch 50/50\n",
            "10/10 [==============================] - 2s 215ms/step - loss: 0.2788 - accuracy: 0.9000 - recall_1: 0.8947 - precision_1: 0.8500 - auc_1: 0.9813 - val_loss: 0.3561 - val_accuracy: 0.8000 - val_recall_1: 0.8333 - val_precision_1: 0.6250 - val_auc_1: 0.9226\n"
          ]
        }
      ]
    },
    {
      "cell_type": "code",
      "source": [
        "plt.figure(figsize=(12,10))\n",
        "plt.subplot(2,2,1)\n",
        "plt.plot(history.history['accuracy'])\n",
        "plt.plot(history.history['val_accuracy'])\n",
        "plt.ylim(0, 1)\n",
        "plt.title('model accuracy (no dropout)')\n",
        "plt.ylabel('accuracy')\n",
        "plt.xlabel('epoch')\n",
        "plt.legend(['train', 'valid'], loc='lower right')\n",
        "plt.subplot(2,2,2)\n",
        "plt.plot(history.history['loss'])\n",
        "plt.plot(history.history['val_loss'])\n",
        "plt.title('model loss (no dropout)')\n",
        "plt.ylabel('loss')\n",
        "plt.xlabel('epoch')\n",
        "plt.legend(['train', 'valid'], loc='upper right')\n",
        "plt.ylim([0,2])\n"
      ],
      "metadata": {
        "colab": {
          "base_uri": "https://localhost:8080/",
          "height": 343
        },
        "id": "Vyh6vcnLz8NJ",
        "outputId": "d139dc38-6221-40a4-bf77-1d9f1f38a650"
      },
      "execution_count": 53,
      "outputs": [
        {
          "output_type": "execute_result",
          "data": {
            "text/plain": [
              "(0.0, 2.0)"
            ]
          },
          "metadata": {},
          "execution_count": 53
        },
        {
          "output_type": "display_data",
          "data": {
            "image/png": "[encoded data removed]",
            "text/plain": [
              "<Figure size 864x720 with 2 Axes>"
            ]
          },
          "metadata": {
            "needs_background": "light"
          }
        }
      ]
    },
    {
      "cell_type": "markdown",
      "source": [
        "From the accuracy graph above, the model can be said to be training quite well, though the validation accuracy fluctuates a lot more than the training accuracy, which might indicate several things:\n",
        "1. The images in the dataset are not exactly equal in terms of lighting conditions. This might be one of the reasons the accuracy fluctuated as it could not learn the pattern.\n",
        "2. The size of (224, 224) might have caused some distortions in certain images.\n",
        "\n",
        "However, in general, it is still able to reach an accuracy of over 90%.\n",
        "\n",
        "From the loss graph above, both the training and validation loss seem to decrease steadily and the validation loss follows closely with the training loss, hence there seems to be no overfitting. While there is a little fluctuation in the graph, the reasons could be the same."
      ],
      "metadata": {
        "id": "gEKG9lVNzVMs"
      }
    },
    {
      "cell_type": "code",
      "metadata": {
        "id": "qmT_yLFUp7Kv",
        "colab": {
          "base_uri": "https://localhost:8080/",
          "height": 1000
        },
        "outputId": "4a684e59-4bae-49c5-e6ee-8e358b8f48b4"
      },
      "source": [
        "test_metrics = model.evaluate_generator(test_generator, steps=2)\n",
        "predictions = model.predict_generator(test_generator)\n",
        "print(test_generator.class_indices)\n",
        "print(test_generator.classes)\n",
        "print(predictions)\n",
        "pred = [int(i > 0.5) for i in predictions]\n",
        "# pred = [np.argmax(i) for i in predictions]\n",
        "print(pred)\n",
        "\n",
        "# Confusion matrix\n",
        "y_true = test_generator.classes\n",
        "y_pred = pred\n",
        "\n",
        "# Classification report\n",
        "print(classification_report(y_true, y_pred))\n",
        "\n",
        "cm = confusion_matrix(y_true, y_pred)\n",
        "fig, ax = plt.subplots(figsize=(10, 10))\n",
        "ax.matshow(cm, cmap=plt.cm.Blues, alpha=0.3)\n",
        "for i in range(cm.shape[0]):\n",
        "    for j in range(cm.shape[1]):\n",
        "        ax.text(x=j, y=i,s=cm[i, j], va='center', ha='center', size='xx-large')\n",
        " \n",
        "plt.xlabel('Predictions', fontsize=18)\n",
        "plt.ylabel('Actuals', fontsize=18)\n",
        "plt.title('Confusion Matrix for model', fontsize=18)\n",
        "plt.show()"
      ],
      "execution_count": 54,
      "outputs": [
        {
          "output_type": "stream",
          "name": "stderr",
          "text": [
            "/usr/local/lib/python3.7/dist-packages/ipykernel_launcher.py:1: UserWarning: `Model.evaluate_generator` is deprecated and will be removed in a future version. Please use `Model.evaluate`, which supports generators.\n",
            "  \"\"\"Entry point for launching an IPython kernel.\n",
            "/usr/local/lib/python3.7/dist-packages/tensorflow/python/data/ops/structured_function.py:265: UserWarning: Even though the `tf.config.experimental_run_functions_eagerly` option is set, this option does not apply to tf.data functions. To force eager execution of tf.data functions, please use `tf.data.experimental.enable_debug_mode()`.\n",
            "  \"Even though the `tf.config.experimental_run_functions_eagerly` \"\n",
            "/usr/local/lib/python3.7/dist-packages/ipykernel_launcher.py:2: UserWarning: `Model.predict_generator` is deprecated and will be removed in a future version. Please use `Model.predict`, which supports generators.\n",
            "  \n"
          ]
        },
        {
          "output_type": "stream",
          "name": "stdout",
          "text": [
            "{'bottle': 0, 'can': 1}\n",
            "[0 0 0 0 0 0 0 0 0 0 0 0 0 0 0 0 0 0 0 0 0 0 0 0 0 0 0 0 0 0 0 0 0 0 0 0 0\n",
            " 0 0 0 0 0 0 0 0 0 0 0 0 0 0 0 0 0 0 0 0 0 0 0 0 0 0 0 0 0 0 0 0 0 0 0 0 0\n",
            " 0 0 0 0 0 0 0 0 0 0 0 0 0 0 0 0 0 0 0 0 0 0 0 0 0 0 0 0 0 0 0 0 0 0 0 0 0\n",
            " 0 0 0 0 0 0 0 0 0 0 0 0 0 0 0 0 0 0 0 0 0 0 0 0 0 0 0 0 0 0 0 0 0 0 0 0 0\n",
            " 0 0 0 0 0 0 0 0 0 0 0 0 0 0 0 0 0 0 0 0 0 0 0 0 0 0 0 0 0 0 0 0 0 0 0 0 0\n",
            " 0 0 0 0 0 0 0 0 0 0 1 1 1 1 1 1 1 1 1 1 1 1 1 1 1 1 1 1 1 1 1 1 1 1 1 1 1\n",
            " 1 1 1 1 1 1 1 1 1 1 1 1 1 1 1 1 1 1 1 1 1 1 1 1 1 1 1 1 1 1 1 1 1 1 1 1 1\n",
            " 1 1 1 1 1 1 1 1 1 1 1 1 1 1 1 1 1 1 1 1 1 1 1 1 1 1 1 1 1 1 1 1 1 1 1 1 1\n",
            " 1 1 1 1 1 1 1 1 1 1 1 1 1 1 1 1 1 1 1 1 1 1 1 1 1 1 1 1 1 1 1 1 1 1 1 1 1\n",
            " 1 1 1 1 1 1 1 1 1 1 1 1 1 1 1 1 1 1 1 1 1 1 1 1 1 1 1 1 1 1 1 1 1 1 1 1 1\n",
            " 1 1 1 1 1 1 1 1 1 1 1 1 1 1 1 1 1 1 1 1]\n",
            "[[0.1357119 ]\n",
            " [0.11251707]\n",
            " [0.14431567]\n",
            " [0.1548854 ]\n",
            " [0.117785  ]\n",
            " [0.10373734]\n",
            " [0.13443288]\n",
            " [0.11364374]\n",
            " [0.1378668 ]\n",
            " [0.09750162]\n",
            " [0.13754189]\n",
            " [0.13487118]\n",
            " [0.13093448]\n",
            " [0.14528356]\n",
            " [0.13878384]\n",
            " [0.13828284]\n",
            " [0.10511994]\n",
            " [0.1231971 ]\n",
            " [0.1200263 ]\n",
            " [0.14436704]\n",
            " [0.11282691]\n",
            " [0.09460904]\n",
            " [0.11901844]\n",
            " [0.11787198]\n",
            " [0.15946043]\n",
            " [0.12686832]\n",
            " [0.11393714]\n",
            " [0.1251084 ]\n",
            " [0.12320178]\n",
            " [0.1182496 ]\n",
            " [0.12354989]\n",
            " [0.1147047 ]\n",
            " [0.11279152]\n",
            " [0.09541173]\n",
            " [0.09542865]\n",
            " [0.11027948]\n",
            " [0.08497836]\n",
            " [0.08225879]\n",
            " [0.0860711 ]\n",
            " [0.06118981]\n",
            " [0.08517   ]\n",
            " [0.07479296]\n",
            " [0.09999949]\n",
            " [0.09505945]\n",
            " [0.06923165]\n",
            " [0.07392311]\n",
            " [0.0639965 ]\n",
            " [0.06901169]\n",
            " [0.11505574]\n",
            " [0.07079653]\n",
            " [0.08144406]\n",
            " [0.08055633]\n",
            " [0.09049127]\n",
            " [0.07744722]\n",
            " [0.10564674]\n",
            " [0.11529006]\n",
            " [0.1717548 ]\n",
            " [0.06890343]\n",
            " [0.06543627]\n",
            " [0.08442029]\n",
            " [0.07707069]\n",
            " [0.08020558]\n",
            " [0.086592  ]\n",
            " [0.10301822]\n",
            " [0.08335659]\n",
            " [0.08591141]\n",
            " [0.09380087]\n",
            " [0.08844842]\n",
            " [0.10896988]\n",
            " [0.11834198]\n",
            " [0.13270497]\n",
            " [0.15107593]\n",
            " [0.1376404 ]\n",
            " [0.11271309]\n",
            " [0.11817811]\n",
            " [0.13184376]\n",
            " [0.09985883]\n",
            " [0.08526075]\n",
            " [0.09538898]\n",
            " [0.07169413]\n",
            " [0.07937725]\n",
            " [0.06864638]\n",
            " [0.10087891]\n",
            " [0.07373537]\n",
            " [0.07849555]\n",
            " [0.0833208 ]\n",
            " [0.09309779]\n",
            " [0.07093742]\n",
            " [0.0661101 ]\n",
            " [0.08278107]\n",
            " [0.09065998]\n",
            " [0.09430718]\n",
            " [0.09441679]\n",
            " [0.2345711 ]\n",
            " [0.22973862]\n",
            " [0.2346116 ]\n",
            " [0.22482564]\n",
            " [0.22425562]\n",
            " [0.3220052 ]\n",
            " [0.28493738]\n",
            " [0.2719933 ]\n",
            " [0.21052353]\n",
            " [0.26579443]\n",
            " [0.27499437]\n",
            " [0.27334568]\n",
            " [0.2680411 ]\n",
            " [0.35063428]\n",
            " [0.29279175]\n",
            " [0.33582798]\n",
            " [0.26910037]\n",
            " [0.2747169 ]\n",
            " [0.30536714]\n",
            " [0.33177257]\n",
            " [0.32400548]\n",
            " [0.30402157]\n",
            " [0.49918345]\n",
            " [0.57386   ]\n",
            " [0.7666296 ]\n",
            " [0.5518506 ]\n",
            " [0.36143243]\n",
            " [0.39719263]\n",
            " [0.32173476]\n",
            " [0.4206134 ]\n",
            " [0.34682915]\n",
            " [0.37185946]\n",
            " [0.36174998]\n",
            " [0.38827628]\n",
            " [0.43101415]\n",
            " [0.54275185]\n",
            " [0.11901425]\n",
            " [0.12395249]\n",
            " [0.14951088]\n",
            " [0.11765493]\n",
            " [0.11765493]\n",
            " [0.12556429]\n",
            " [0.11332896]\n",
            " [0.1115061 ]\n",
            " [0.15435787]\n",
            " [0.18134585]\n",
            " [0.15222906]\n",
            " [0.15490288]\n",
            " [0.12458855]\n",
            " [0.11343624]\n",
            " [0.11343624]\n",
            " [0.14407542]\n",
            " [0.12786742]\n",
            " [0.12385403]\n",
            " [0.16470332]\n",
            " [0.12202364]\n",
            " [0.11659618]\n",
            " [0.1194186 ]\n",
            " [0.12302928]\n",
            " [0.13244972]\n",
            " [0.12387446]\n",
            " [0.11588693]\n",
            " [0.11304684]\n",
            " [0.11920679]\n",
            " [0.10356446]\n",
            " [0.11776756]\n",
            " [0.12536314]\n",
            " [0.11692316]\n",
            " [0.11906466]\n",
            " [0.12445696]\n",
            " [0.12084141]\n",
            " [0.12661675]\n",
            " [0.35227597]\n",
            " [0.57904375]\n",
            " [0.40552628]\n",
            " [0.33358726]\n",
            " [0.21563075]\n",
            " [0.42642495]\n",
            " [0.5611871 ]\n",
            " [0.50537074]\n",
            " [0.38287315]\n",
            " [0.19586319]\n",
            " [0.28879347]\n",
            " [0.7337972 ]\n",
            " [0.2916926 ]\n",
            " [0.33056864]\n",
            " [0.35589617]\n",
            " [0.39377567]\n",
            " [0.57006097]\n",
            " [0.56297463]\n",
            " [0.35884032]\n",
            " [0.4343104 ]\n",
            " [0.644642  ]\n",
            " [0.54330856]\n",
            " [0.36917964]\n",
            " [0.45595008]\n",
            " [0.31812957]\n",
            " [0.56584775]\n",
            " [0.46856984]\n",
            " [0.34635332]\n",
            " [0.33623573]\n",
            " [0.1695165 ]\n",
            " [0.22235407]\n",
            " [0.24421382]\n",
            " [0.26235482]\n",
            " [0.27758095]\n",
            " [0.8287826 ]\n",
            " [0.7921961 ]\n",
            " [0.819994  ]\n",
            " [0.85973555]\n",
            " [0.7820899 ]\n",
            " [0.8350714 ]\n",
            " [0.7482522 ]\n",
            " [0.7888745 ]\n",
            " [0.80290425]\n",
            " [0.8063891 ]\n",
            " [0.83922035]\n",
            " [0.48615322]\n",
            " [0.3132764 ]\n",
            " [0.9169084 ]\n",
            " [0.70389044]\n",
            " [0.67345643]\n",
            " [0.9411078 ]\n",
            " [0.870721  ]\n",
            " [0.9114054 ]\n",
            " [0.8247426 ]\n",
            " [0.8184135 ]\n",
            " [0.40440455]\n",
            " [0.9276356 ]\n",
            " [0.8702515 ]\n",
            " [0.8413771 ]\n",
            " [0.926933  ]\n",
            " [0.90314   ]\n",
            " [0.9264426 ]\n",
            " [0.8550748 ]\n",
            " [0.8671725 ]\n",
            " [0.7728997 ]\n",
            " [0.79266936]\n",
            " [0.7508168 ]\n",
            " [0.9121772 ]\n",
            " [0.53765416]\n",
            " [0.91176134]\n",
            " [0.95348084]\n",
            " [0.9417482 ]\n",
            " [0.9251893 ]\n",
            " [0.912788  ]\n",
            " [0.95491487]\n",
            " [0.93622303]\n",
            " [0.51803744]\n",
            " [0.840901  ]\n",
            " [0.82978505]\n",
            " [0.86703867]\n",
            " [0.8671897 ]\n",
            " [0.7886388 ]\n",
            " [0.8476666 ]\n",
            " [0.7116578 ]\n",
            " [0.88322705]\n",
            " [0.886006  ]\n",
            " [0.8405781 ]\n",
            " [0.79344714]\n",
            " [0.8409622 ]\n",
            " [0.8450729 ]\n",
            " [0.5466862 ]\n",
            " [0.8610131 ]\n",
            " [0.85811   ]\n",
            " [0.9448815 ]\n",
            " [0.8344604 ]\n",
            " [0.8966289 ]\n",
            " [0.8160347 ]\n",
            " [0.7558856 ]\n",
            " [0.79830074]\n",
            " [0.77833235]\n",
            " [0.7978861 ]\n",
            " [0.86965275]\n",
            " [0.5202034 ]\n",
            " [0.95505   ]\n",
            " [0.8934595 ]\n",
            " [0.4248355 ]\n",
            " [0.9567846 ]\n",
            " [0.9085548 ]\n",
            " [0.5410486 ]\n",
            " [0.9320023 ]\n",
            " [0.9285577 ]\n",
            " [0.94622356]\n",
            " [0.9366001 ]\n",
            " [0.9344643 ]\n",
            " [0.8698737 ]\n",
            " [0.7600087 ]\n",
            " [0.71964043]\n",
            " [0.9220723 ]\n",
            " [0.920983  ]\n",
            " [0.9397419 ]\n",
            " [0.92659754]\n",
            " [0.9382351 ]\n",
            " [0.92694   ]\n",
            " [0.9301347 ]\n",
            " [0.93585974]\n",
            " [0.95271033]\n",
            " [0.94307387]\n",
            " [0.9021293 ]\n",
            " [0.9332281 ]\n",
            " [0.8822203 ]\n",
            " [0.9564823 ]\n",
            " [0.96449375]\n",
            " [0.9604488 ]\n",
            " [0.5956521 ]\n",
            " [0.95613194]\n",
            " [0.9555598 ]\n",
            " [0.9485476 ]\n",
            " [0.6137965 ]\n",
            " [0.9646997 ]\n",
            " [0.9788786 ]\n",
            " [0.98235464]\n",
            " [0.9707354 ]\n",
            " [0.9815361 ]\n",
            " [0.9186765 ]\n",
            " [0.95973676]\n",
            " [0.86041164]\n",
            " [0.7072648 ]\n",
            " [0.9802596 ]\n",
            " [0.96452135]\n",
            " [0.93739736]\n",
            " [0.8498722 ]\n",
            " [0.9246866 ]\n",
            " [0.97103566]\n",
            " [0.9111371 ]\n",
            " [0.9190012 ]\n",
            " [0.9430977 ]\n",
            " [0.70358115]\n",
            " [0.39846924]\n",
            " [0.5226866 ]\n",
            " [0.44786155]\n",
            " [0.41366324]\n",
            " [0.43369812]\n",
            " [0.95283145]\n",
            " [0.96252084]\n",
            " [0.91500473]\n",
            " [0.937347  ]\n",
            " [0.9506539 ]\n",
            " [0.92289317]\n",
            " [0.93552685]\n",
            " [0.9276602 ]\n",
            " [0.9550992 ]\n",
            " [0.97269386]\n",
            " [0.9428421 ]\n",
            " [0.9576719 ]\n",
            " [0.9390745 ]\n",
            " [0.9455739 ]\n",
            " [0.97736573]\n",
            " [0.5959793 ]\n",
            " [0.8793582 ]\n",
            " [0.95673615]\n",
            " [0.6758355 ]\n",
            " [0.8399359 ]\n",
            " [0.84743017]\n",
            " [0.88753545]\n",
            " [0.9423559 ]\n",
            " [0.8638856 ]\n",
            " [0.8800923 ]\n",
            " [0.8410983 ]\n",
            " [0.80781764]\n",
            " [0.7883781 ]\n",
            " [0.81634635]\n",
            " [0.7606791 ]\n",
            " [0.73822844]\n",
            " [0.13192295]\n",
            " [0.12922443]\n",
            " [0.5466862 ]\n",
            " [0.41428745]\n",
            " [0.4248355 ]\n",
            " [0.7625564 ]\n",
            " [0.5662478 ]\n",
            " [0.71964043]\n",
            " [0.430688  ]\n",
            " [0.58436984]\n",
            " [0.59574854]\n",
            " [0.5114307 ]\n",
            " [0.5956521 ]\n",
            " [0.61220783]\n",
            " [0.6139826 ]\n",
            " [0.8505693 ]\n",
            " [0.59589225]\n",
            " [0.6653302 ]\n",
            " [0.51782036]\n",
            " [0.55712533]\n",
            " [0.79443294]\n",
            " [0.6324728 ]\n",
            " [0.47150168]\n",
            " [0.49067435]\n",
            " [0.5627303 ]\n",
            " [0.7550648 ]\n",
            " [0.64596146]\n",
            " [0.6857706 ]\n",
            " [0.44060278]\n",
            " [0.64569473]\n",
            " [0.7707225 ]\n",
            " [0.5611419 ]]\n",
            "[0, 0, 0, 0, 0, 0, 0, 0, 0, 0, 0, 0, 0, 0, 0, 0, 0, 0, 0, 0, 0, 0, 0, 0, 0, 0, 0, 0, 0, 0, 0, 0, 0, 0, 0, 0, 0, 0, 0, 0, 0, 0, 0, 0, 0, 0, 0, 0, 0, 0, 0, 0, 0, 0, 0, 0, 0, 0, 0, 0, 0, 0, 0, 0, 0, 0, 0, 0, 0, 0, 0, 0, 0, 0, 0, 0, 0, 0, 0, 0, 0, 0, 0, 0, 0, 0, 0, 0, 0, 0, 0, 0, 0, 0, 0, 0, 0, 0, 0, 0, 0, 0, 0, 0, 0, 0, 0, 0, 0, 0, 0, 0, 0, 0, 0, 0, 1, 1, 1, 0, 0, 0, 0, 0, 0, 0, 0, 0, 1, 0, 0, 0, 0, 0, 0, 0, 0, 0, 0, 0, 0, 0, 0, 0, 0, 0, 0, 0, 0, 0, 0, 0, 0, 0, 0, 0, 0, 0, 0, 0, 0, 0, 0, 0, 0, 0, 1, 0, 0, 0, 0, 1, 1, 0, 0, 0, 1, 0, 0, 0, 0, 1, 1, 0, 0, 1, 1, 0, 0, 0, 1, 0, 0, 0, 0, 0, 0, 0, 0, 1, 1, 1, 1, 1, 1, 1, 1, 1, 1, 1, 0, 0, 1, 1, 1, 1, 1, 1, 1, 1, 0, 1, 1, 1, 1, 1, 1, 1, 1, 1, 1, 1, 1, 1, 1, 1, 1, 1, 1, 1, 1, 1, 1, 1, 1, 1, 1, 1, 1, 1, 1, 1, 1, 1, 1, 1, 1, 1, 1, 1, 1, 1, 1, 1, 1, 1, 1, 1, 1, 1, 0, 1, 1, 1, 1, 1, 1, 1, 1, 1, 1, 1, 1, 1, 1, 1, 1, 1, 1, 1, 1, 1, 1, 1, 1, 1, 1, 1, 1, 1, 1, 1, 1, 1, 1, 1, 1, 1, 1, 1, 1, 1, 1, 1, 1, 1, 1, 1, 1, 1, 1, 1, 0, 1, 0, 0, 0, 1, 1, 1, 1, 1, 1, 1, 1, 1, 1, 1, 1, 1, 1, 1, 1, 1, 1, 1, 1, 1, 1, 1, 1, 1, 1, 1, 1, 1, 1, 1, 0, 0, 1, 0, 0, 1, 1, 1, 0, 1, 1, 1, 1, 1, 1, 1, 1, 1, 1, 1, 1, 1, 0, 0, 1, 1, 1, 1, 0, 1, 1, 1]\n",
            "              precision    recall  f1-score   support\n",
            "\n",
            "           0       0.90      0.93      0.92       195\n",
            "           1       0.93      0.90      0.91       195\n",
            "\n",
            "    accuracy                           0.92       390\n",
            "   macro avg       0.92      0.92      0.92       390\n",
            "weighted avg       0.92      0.92      0.92       390\n",
            "\n"
          ]
        },
        {
          "output_type": "display_data",
          "data": {
            "image/png": "[encoded data removed]",
            "text/plain": [
              "<Figure size 720x720 with 1 Axes>"
            ]
          },
          "metadata": {
            "needs_background": "light"
          }
        }
      ]
    },
    {
      "cell_type": "markdown",
      "source": [
        "Predictions on the test sest reveals that the model is generally learning the pattern of the dataset well, but the overall accuracy could be improved.\n",
        "\n",
        "The next step in this notebook will be to attempt to convert false positives and false negatives to true positives and true negatives. The wrongly predicted images have to be analyzed to find out the reason why the model is doing so. Then, when the metrics are improved, a real-world set of images under different lighting conditions will be taken and the model will make corresponding predictions."
      ],
      "metadata": {
        "id": "EtNafkvi0cuC"
      }
    },
    {
      "cell_type": "code",
      "source": [
        "# Save the model\n",
        "model.save(\"/content/drive/My Drive/Reverse Vending Machine/ObjectDetector/v2/saved_model/my_model\")"
      ],
      "metadata": {
        "id": "ayznf4kOWcoI",
        "colab": {
          "base_uri": "https://localhost:8080/"
        },
        "outputId": "8ac00a9e-7385-41df-96a8-c3cddb97b065"
      },
      "execution_count": 55,
      "outputs": [
        {
          "output_type": "stream",
          "name": "stdout",
          "text": [
            "INFO:tensorflow:Assets written to: /content/drive/My Drive/Reverse Vending Machine/ObjectDetector/v2/saved_model/my_model/assets\n"
          ]
        },
        {
          "output_type": "stream",
          "name": "stderr",
          "text": [
            "INFO:tensorflow:Assets written to: /content/drive/My Drive/Reverse Vending Machine/ObjectDetector/v2/saved_model/my_model/assets\n"
          ]
        }
      ]
    },
    {
      "cell_type": "markdown",
      "source": [
        "##Inference"
      ],
      "metadata": {
        "id": "qfT-MVJxp9mD"
      }
    },
    {
      "cell_type": "code",
      "source": [
        "import os\n",
        "import numpy as np\n",
        "import matplotlib.pyplot as plt\n",
        "\n",
        "from sklearn.metrics import classification_report\n",
        "from sklearn.metrics import classification_report, confusion_matrix\n",
        "\n",
        "import tensorflow as tf\n",
        "from tensorflow.keras.models import Sequential\n",
        "from tensorflow.keras.layers import Flatten, Dense\n",
        "from tensorflow.keras.optimizers import Adam\n",
        "from tensorflow.keras.preprocessing.image import ImageDataGenerator\n"
      ],
      "metadata": {
        "id": "vC1wLiqSqApU"
      },
      "execution_count": 56,
      "outputs": []
    },
    {
      "cell_type": "code",
      "source": [
        "# Convert the model to TFLite model\n",
        "converter = tf.lite.TFLiteConverter.from_saved_model(\"/content/drive/My Drive/Reverse Vending Machine/ObjectDetector/v2/saved_model/my_model\") # path to the SavedModel directory\n",
        "tflite_model = converter.convert()\n",
        "\n",
        "with open('/content/drive/My Drive/Reverse Vending Machine/ObjectDetector/v2/saved_model.tflite', 'wb') as f:\n",
        "  f.write(tflite_model)"
      ],
      "metadata": {
        "colab": {
          "base_uri": "https://localhost:8080/"
        },
        "id": "PTjhu-K6UKw3",
        "outputId": "63a31ecd-a34f-4891-87f4-025c3da73a59"
      },
      "execution_count": 57,
      "outputs": [
        {
          "output_type": "stream",
          "name": "stderr",
          "text": [
            "WARNING:absl:Buffer deduplication procedure will be skipped when flatbuffer library is not properly loaded\n"
          ]
        }
      ]
    },
    {
      "cell_type": "code",
      "source": [
        "# Copyright 2018 The TensorFlow Authors. All Rights Reserved.\n",
        "#\n",
        "# Licensed under the Apache License, Version 2.0 (the \"License\");\n",
        "# you may not use this file except in compliance with the License.\n",
        "# You may obtain a copy of the License at\n",
        "#\n",
        "#     http://www.apache.org/licenses/LICENSE-2.0\n",
        "#\n",
        "# Unless required by applicable law or agreed to in writing, software\n",
        "# distributed under the License is distributed on an \"AS IS\" BASIS,\n",
        "# WITHOUT WARRANTIES OR CONDITIONS OF ANY KIND, either express or implied.\n",
        "# See the License for the specific language governing permissions and\n",
        "# limitations under the License.\n",
        "# ==============================================================================\n",
        "\"\"\"label_image for tflite.\"\"\"\n",
        "\n",
        "import argparse\n",
        "import time\n",
        "\n",
        "import numpy as np\n",
        "from PIL import Image\n",
        "import tensorflow as tf\n",
        "\n",
        "\n",
        "def load_labels(filename):\n",
        "  with open(filename, 'r') as f:\n",
        "    return [line.strip() for line in f.readlines()]\n",
        "\n",
        "\n",
        "MODEL = '/content/drive/My Drive/Reverse Vending Machine/ObjectDetector/v2/saved_model.tflite'\n",
        "IMAGE = '/content/drive/My Drive/Reverse Vending Machine/ObjectDetector/v2/can_1.jpg'\n",
        "LABEL_FILE = '/content/drive/My Drive/Reverse Vending Machine/ObjectDetector/v2/labels.txt'\n",
        "INPUT_MEAN = 127.5\n",
        "INPUT_STD = 127.5\n",
        "NUM_THREADS = None\n",
        "EXT_DELEGATE_OPTIONS = None\n",
        "\n",
        "\n",
        "ext_delegate = None\n",
        "ext_delegate_options = {}\n",
        "\n",
        "# parse extenal delegate options\n",
        "if EXT_DELEGATE_OPTIONS is not None:\n",
        "  options = EXT_DELEGATE_OPTIONS.split(';')\n",
        "  for o in options:\n",
        "    kv = o.split(':')\n",
        "    if (len(kv) == 2):\n",
        "      ext_delegate_options[kv[0].strip()] = kv[1].strip()\n",
        "    else:\n",
        "      raise RuntimeError('Error parsing delegate option: ' + o)\n",
        "\n",
        "# load external delegate\n",
        "if EXT_DELEGATE_OPTIONS is not None:\n",
        "  print('Loading external delegate from {} with args: {}'.format(\n",
        "      EXT_DELEGATE_OPTIONS, ext_delegate_options))\n",
        "  ext_delegate = [\n",
        "      tflite.load_delegate(EXT_DELEGATE_OPTIONS, ext_delegate_options)\n",
        "  ]\n",
        "\n",
        "interpreter = tf.lite.Interpreter(\n",
        "    model_path=MODEL,\n",
        "    experimental_delegates=ext_delegate,\n",
        "    num_threads=NUM_THREADS)\n",
        "interpreter.allocate_tensors()\n",
        "\n",
        "input_details = interpreter.get_input_details()\n",
        "output_details = interpreter.get_output_details()\n",
        "\n",
        "# check the type of the input tensor\n",
        "floating_model = input_details[0]['dtype'] == np.float32\n",
        "print(\"Floating model: \", floating_model)\n",
        "\n",
        "# NxHxWxC, H:1, W:2\n",
        "height = input_details[0]['shape'][1]\n",
        "width = input_details[0]['shape'][2]\n",
        "print(\"Height: {}, Width: {}\".format(height, width))\n",
        "img = Image.open(IMAGE).resize((width, height))\n",
        "\n",
        "# add N dim\n",
        "input_data = np.expand_dims(img, axis=0)\n",
        "\n",
        "if floating_model:\n",
        "  input_data = (np.float32(input_data) - INPUT_MEAN) / INPUT_STD\n",
        "\n",
        "interpreter.set_tensor(input_details[0]['index'], input_data)\n",
        "\n",
        "start_time = time.time()\n",
        "interpreter.invoke()\n",
        "stop_time = time.time()\n",
        "\n",
        "output_data = interpreter.get_tensor(output_details[0]['index'])\n",
        "results = np.squeeze(output_data)\n",
        "print(\"Output data: \", output_data)\n",
        "print(\"Results: \", results)\n",
        "\n",
        "if results > 0.5:\n",
        "  prediction = \"can\"\n",
        "else:\n",
        "  prediction = \"bottle\"\n",
        "\n",
        "print(\"Prediction: \", prediction)\n",
        "\n",
        "print('time: {:.3f}ms'.format((stop_time - start_time) * 1000))"
      ],
      "metadata": {
        "colab": {
          "base_uri": "https://localhost:8080/"
        },
        "id": "N49a6APSoipV",
        "outputId": "034b07fe-8108-47a0-860b-282edc9d747c"
      },
      "execution_count": 58,
      "outputs": [
        {
          "output_type": "stream",
          "name": "stdout",
          "text": [
            "Floating model:  True\n",
            "Height: 224, Width: 224\n",
            "Output data:  [[0.7657963]]\n",
            "Results:  0.7657963\n",
            "Prediction:  can\n",
            "time: 429.653ms\n"
          ]
        }
      ]
    },
    {
      "cell_type": "code",
      "source": [
        ""
      ],
      "metadata": {
        "id": "Rj5IvuvKs3Yq"
      },
      "execution_count": 58,
      "outputs": []
    }
  ]
}